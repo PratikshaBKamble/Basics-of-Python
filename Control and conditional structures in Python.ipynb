{
 "cells": [
  {
   "cell_type": "markdown",
   "metadata": {},
   "source": [
    "# Control and conditional structures\n",
    "\n",
    "- Simple if-statement\n",
    "- If-else statement\n",
    "- If-elif-else statement\n",
    "- Nested if statement"
   ]
  },
  {
   "cell_type": "code",
   "execution_count": 5,
   "metadata": {},
   "outputs": [
    {
     "name": "stdout",
     "output_type": "stream",
     "text": [
      "B is less than A\n"
     ]
    }
   ],
   "source": [
    "# simple if statement\n",
    "\n",
    "a=99\n",
    "b=10\n",
    "\n",
    "if b < a :\n",
    "    print(\"B is less than A\")"
   ]
  },
  {
   "cell_type": "code",
   "execution_count": 7,
   "metadata": {},
   "outputs": [
    {
     "name": "stdout",
     "output_type": "stream",
     "text": [
      "b is less than a\n"
     ]
    }
   ],
   "source": [
    "# if-else statement\n",
    "\n",
    "a=10\n",
    "b=7\n",
    "\n",
    "if b > a:\n",
    "    print(\"b is greater than a\")\n",
    "else:\n",
    "    print(\"b is less than a\")"
   ]
  },
  {
   "cell_type": "code",
   "execution_count": 10,
   "metadata": {},
   "outputs": [
    {
     "name": "stdout",
     "output_type": "stream",
     "text": [
      "a and b both are equal\n"
     ]
    }
   ],
   "source": [
    "# if-elif-else statement\n",
    "\n",
    "a=5\n",
    "b=5\n",
    "\n",
    "if a<b :\n",
    "    print(\"a is greater than b\")\n",
    "elif a==b:\n",
    "    print(\"a and b both are equal\")\n",
    "else:\n",
    "    print(\"a is less than b\")"
   ]
  },
  {
   "cell_type": "code",
   "execution_count": 18,
   "metadata": {},
   "outputs": [
    {
     "name": "stdout",
     "output_type": "stream",
     "text": [
      "value not similar\n"
     ]
    }
   ],
   "source": [
    "# Nested-if statement\n",
    "\n",
    "x=34\n",
    "\n",
    "if x > 35:\n",
    "    print(\"above 35\")\n",
    "    if x >40:\n",
    "        print(\"above 40\")\n",
    "    elif x==45:\n",
    "        print(\"its 45\")\n",
    "else:\n",
    "    print(\"value not similar\")"
   ]
  },
  {
   "cell_type": "code",
   "execution_count": null,
   "metadata": {},
   "outputs": [],
   "source": []
  }
 ],
 "metadata": {
  "kernelspec": {
   "display_name": "Python 3",
   "language": "python",
   "name": "python3"
  },
  "language_info": {
   "codemirror_mode": {
    "name": "ipython",
    "version": 3
   },
   "file_extension": ".py",
   "mimetype": "text/x-python",
   "name": "python",
   "nbconvert_exporter": "python",
   "pygments_lexer": "ipython3",
   "version": "3.8.5"
  }
 },
 "nbformat": 4,
 "nbformat_minor": 4
}
