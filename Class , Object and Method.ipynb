{
 "cells": [
  {
   "cell_type": "code",
   "execution_count": 1,
   "metadata": {},
   "outputs": [],
   "source": [
    "# simple class example\n",
    "\n",
    "class car:\n",
    "    def __init__(self,window,door,enginetype):\n",
    "        self.window=window\n",
    "        self.door=door\n",
    "        self.enginetype=enginetype"
   ]
  },
  {
   "cell_type": "code",
   "execution_count": 2,
   "metadata": {},
   "outputs": [],
   "source": [
    "car1 = car(4,5,\"petrol\")"
   ]
  },
  {
   "cell_type": "code",
   "execution_count": 5,
   "metadata": {},
   "outputs": [
    {
     "name": "stdout",
     "output_type": "stream",
     "text": [
      "4\n"
     ]
    }
   ],
   "source": [
    "print(car1.window)"
   ]
  },
  {
   "cell_type": "code",
   "execution_count": 25,
   "metadata": {},
   "outputs": [],
   "source": [
    "# Perform mathematical operations using class and method:\n",
    "\n",
    "class math:\n",
    "    def __init__(self,num1,num2):\n",
    "        self.a= float(num1)\n",
    "        self.b= float(num2)\n",
    "    \n",
    "    def add(self):\n",
    "        result = self.a + self.b\n",
    "        return \"Addition of {} and {} is {}.\".format(self.a,self.b,result)\n",
    "    \n",
    "    def sub(self):\n",
    "        result = self.a - self.b\n",
    "        return \"Substraction of {} and {} is {}.\".format(self.a,self.b,result)\n",
    "    \n",
    "    def mul(self):\n",
    "        result = self.a * self.b\n",
    "        return \"Multiplication of {} and {} is {}.\".format(self.a,self.b,result)\n",
    "    \n",
    "    def div(self):\n",
    "        result = self.a / self.b\n",
    "        return \"Division of {} and {} is {}.\".format(self.a,self.b,result)\n",
    "    "
   ]
  },
  {
   "cell_type": "code",
   "execution_count": 26,
   "metadata": {},
   "outputs": [],
   "source": [
    "m = math(20,10)"
   ]
  },
  {
   "cell_type": "code",
   "execution_count": 28,
   "metadata": {},
   "outputs": [
    {
     "name": "stdout",
     "output_type": "stream",
     "text": [
      "Addition of 20.0 and 10.0 is 30.0.\n",
      "Substraction of 20.0 and 10.0 is 10.0.\n",
      "Multiplication of 20.0 and 10.0 is 200.0.\n",
      "Division of 20.0 and 10.0 is 2.0.\n"
     ]
    }
   ],
   "source": [
    "print(m.add())\n",
    "print(m.sub())\n",
    "print(m.mul())\n",
    "print(m.div())"
   ]
  },
  {
   "cell_type": "code",
   "execution_count": 36,
   "metadata": {},
   "outputs": [],
   "source": [
    "# Calculate simple intrest through using default __init__ function or by using method:\n",
    "\n",
    "class SI:\n",
    "    \"\"\"\"\n",
    "    def __init__(self,amount,year,rate):\n",
    "        self.p=amount\n",
    "        self.n=year\n",
    "        self.r=rate\n",
    "    \"\"\"\n",
    "        \n",
    "    def calculate_si(self):\n",
    "        P=float(input(\"Please enter amount\"))\n",
    "        N=float(input(\"Please enter no of years\"))\n",
    "        R=float(input(\"Please enter rate of intrest\"))\n",
    "        \n",
    "        # simple_intrest = (self.p*self.n*self.r) / 100\n",
    "        \n",
    "        simple_intrest = (P * N * R) / 100\n",
    "\n",
    "        \n",
    "        return \"Your simple intrest is {}\".format(simple_intrest)\n",
    "        "
   ]
  },
  {
   "cell_type": "code",
   "execution_count": 37,
   "metadata": {},
   "outputs": [],
   "source": [
    "s = SI()"
   ]
  },
  {
   "cell_type": "code",
   "execution_count": 38,
   "metadata": {},
   "outputs": [
    {
     "name": "stdout",
     "output_type": "stream",
     "text": [
      "Please enter amount50000\n",
      "Please enter no of years6\n",
      "Please enter rate of intrest12\n"
     ]
    },
    {
     "data": {
      "text/plain": [
       "'Your simple intrest is 36000.0'"
      ]
     },
     "execution_count": 38,
     "metadata": {},
     "output_type": "execute_result"
    }
   ],
   "source": [
    "s.calculate_si()"
   ]
  },
  {
   "cell_type": "code",
   "execution_count": 33,
   "metadata": {},
   "outputs": [],
   "source": [
    "class employee():\n",
    "    \n",
    "    bonus = 10000\n",
    "    \n",
    "    def __init__(self,empid,empname):\n",
    "        self.id=empid\n",
    "        self.name=empname\n",
    "    \n",
    "    def details(self):\n",
    "        i = int(input(\"Please enter your experience.\"))\n",
    "        \n",
    "        if i > 3:\n",
    "                    print(\"You are old employee\")\n",
    "                    revised_sal= 40000 + employee.bonus\n",
    "                    return \"{} your revised salary is {}.\".format(self.name,revised_sal)\n",
    "                \n",
    "        else:\n",
    "                    return \"{} your final amount of salary is 40000\".format(self.name)\n",
    "                \n",
    "            "
   ]
  },
  {
   "cell_type": "code",
   "execution_count": 34,
   "metadata": {},
   "outputs": [],
   "source": [
    "e=employee(1,\"Pratiksha\")"
   ]
  },
  {
   "cell_type": "code",
   "execution_count": 35,
   "metadata": {},
   "outputs": [
    {
     "name": "stdout",
     "output_type": "stream",
     "text": [
      "Please enter your experience.4\n",
      "You are old employee\n",
      "Pratiksha your revised salary is 50000.\n"
     ]
    }
   ],
   "source": [
    "print(e.details())"
   ]
  }
 ],
 "metadata": {
  "kernelspec": {
   "display_name": "Python 3",
   "language": "python",
   "name": "python3"
  }
 },
 "nbformat": 4,
 "nbformat_minor": 4
}
